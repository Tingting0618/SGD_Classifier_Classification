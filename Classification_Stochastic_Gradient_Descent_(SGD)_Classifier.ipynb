{
 "cells": [
  {
   "cell_type": "markdown",
   "id": "5d9dbc95",
   "metadata": {},
   "source": [
    "### Classification: Using the MNIST Example\n",
    "\n",
    "#### Content Includes:\n",
    "- Stochastic Gradient Descent (SGD) classifier\n",
    "- Stratified sampling\n",
    "- ROC and AUC\n",
    "- Confusion Matrix\n",
    "\n",
    "This notebook is my learning journal following the book:\n",
    "Hands-On Machine Learning with\n",
    "Scikit-Learn, Keras, and TensorFlow, 2nd Edition, by Aurélien Géron (O’Reilly).\n",
    "Copyright 2019 Kiwisoft S.A.S., 978-1-492-03264-9."
   ]
  },
  {
   "cell_type": "markdown",
   "id": "bcd70326",
   "metadata": {},
   "source": [
    "#### Load data"
   ]
  },
  {
   "cell_type": "code",
   "execution_count": 1,
   "id": "80a88ced",
   "metadata": {},
   "outputs": [],
   "source": [
    "from sklearn.datasets import fetch_openml"
   ]
  },
  {
   "cell_type": "code",
   "execution_count": 2,
   "id": "2048b8f7",
   "metadata": {},
   "outputs": [
    {
     "data": {
      "text/plain": [
       "dict_keys(['data', 'target', 'frame', 'categories', 'feature_names', 'target_names', 'DESCR', 'details', 'url'])"
      ]
     },
     "execution_count": 2,
     "metadata": {},
     "output_type": "execute_result"
    }
   ],
   "source": [
    "# Import dataset\n",
    "mnist = fetch_openml('mnist_784', version=1)\n",
    "mnist.keys()"
   ]
  },
  {
   "cell_type": "code",
   "execution_count": 3,
   "id": "6e782884",
   "metadata": {},
   "outputs": [],
   "source": [
    "X, y = mnist[\"data\"], mnist[\"target\"]"
   ]
  },
  {
   "cell_type": "code",
   "execution_count": 4,
   "id": "743d6ca2",
   "metadata": {},
   "outputs": [
    {
     "data": {
      "image/png": "[encoded data removed]",
      "text/plain": [
       "<Figure size 432x288 with 1 Axes>"
      ]
     },
     "metadata": {
      "needs_background": "light"
     },
     "output_type": "display_data"
    }
   ],
   "source": [
    "# Load the first number\n",
    "import matplotlib as mpl\n",
    "import matplotlib.pyplot as plt\n",
    "some_digit = X[0]\n",
    "some_digit_image = some_digit.reshape(28, 28)\n",
    "plt.imshow(some_digit_image, cmap=\"binary\")\n",
    "plt.axis(\"off\")\n",
    "plt.show()"
   ]
  },
  {
   "cell_type": "code",
   "execution_count": 5,
   "id": "dbf748f0",
   "metadata": {},
   "outputs": [
    {
     "data": {
      "text/plain": [
       "'5'"
      ]
     },
     "execution_count": 5,
     "metadata": {},
     "output_type": "execute_result"
    }
   ],
   "source": [
    "y[0]"
   ]
  },
  {
   "cell_type": "code",
   "execution_count": 6,
   "id": "868a4f68",
   "metadata": {},
   "outputs": [],
   "source": [
    "import numpy as np\n",
    "y = y.astype(np.uint8)"
   ]
  },
  {
   "cell_type": "code",
   "execution_count": 7,
   "id": "fb7585a5",
   "metadata": {},
   "outputs": [],
   "source": [
    "# Set test sets\n",
    "X_train, X_test, y_train, y_test = X[:60000], X[60000:], y[:60000], y[60000:]"
   ]
  },
  {
   "cell_type": "code",
   "execution_count": null,
   "id": "3f53427c",
   "metadata": {},
   "outputs": [],
   "source": []
  },
  {
   "cell_type": "markdown",
   "id": "83fd6110",
   "metadata": {},
   "source": [
    "## Training a Binary Classifier, 5 or not 5"
   ]
  },
  {
   "cell_type": "code",
   "execution_count": 8,
   "id": "f92f4612",
   "metadata": {},
   "outputs": [],
   "source": [
    "# Make test binary (whether or not the picture is 5)\n",
    "y_train_5 = (y_train == 5)\n",
    "y_test_5 = (y_test == 5)"
   ]
  },
  {
   "cell_type": "markdown",
   "id": "8f9fdd53",
   "metadata": {},
   "source": [
    "#### Stochastic Gradient Descent (SGD) classifier\n",
    "SGD handles very large datasets efficiently. This is in part because SGD deals with training instances independently. The SGDClassifier relies on randomness during training (hence the name “stochastic”)."
   ]
  },
  {
   "cell_type": "code",
   "execution_count": 9,
   "id": "e1e2326d",
   "metadata": {},
   "outputs": [
    {
     "data": {
      "text/plain": [
       "SGDClassifier(random_state=42)"
      ]
     },
     "execution_count": 9,
     "metadata": {},
     "output_type": "execute_result"
    }
   ],
   "source": [
    "from sklearn.linear_model import SGDClassifier\n",
    "sgd_clf = SGDClassifier(random_state=42)\n",
    "sgd_clf.fit(X_train, y_train_5)"
   ]
  },
  {
   "cell_type": "code",
   "execution_count": 10,
   "id": "8be53e8b",
   "metadata": {},
   "outputs": [
    {
     "data": {
      "text/plain": [
       "array([ True])"
      ]
     },
     "execution_count": 10,
     "metadata": {},
     "output_type": "execute_result"
    }
   ],
   "source": [
    "sgd_clf.predict([some_digit])"
   ]
  },
  {
   "cell_type": "code",
   "execution_count": null,
   "id": "7e4355f0",
   "metadata": {},
   "outputs": [],
   "source": []
  },
  {
   "cell_type": "markdown",
   "id": "37ce3b5c",
   "metadata": {},
   "source": [
    "The StratifiedKFold class performs stratified sampling (as explained in Chapter 2 - Hands-on ML book)\n",
    "to produce folds that contain a representative ratio of each class. At each iteration the\n",
    "code creates a clone of the classifier, trains that clone on the training folds, and makes\n",
    "predictions on the test fold. Then it counts the number of correct predictions and\n",
    "outputs the ratio of correct predictions."
   ]
  },
  {
   "cell_type": "code",
   "execution_count": 11,
   "id": "906056f7",
   "metadata": {},
   "outputs": [],
   "source": [
    "from sklearn.model_selection import StratifiedKFold\n",
    "from sklearn.base import clone"
   ]
  },
  {
   "cell_type": "code",
   "execution_count": 12,
   "id": "bf96ced8",
   "metadata": {},
   "outputs": [
    {
     "name": "stdout",
     "output_type": "stream",
     "text": [
      "0.96025\n",
      "0.95515\n",
      "0.9675\n"
     ]
    }
   ],
   "source": [
    "skfolds = StratifiedKFold(n_splits=3, shuffle=True);\n",
    "for train_index, test_index in skfolds.split(X_train, y_train_5):\n",
    "    clone_clf = clone(sgd_clf)\n",
    "    X_train_folds = X_train[train_index]\n",
    "    y_train_folds = y_train_5[train_index]\n",
    "    X_test_fold = X_train[test_index]\n",
    "    y_test_fold = y_train_5[test_index]\n",
    "    clone_clf.fit(X_train_folds, y_train_folds)\n",
    "    y_pred = clone_clf.predict(X_test_fold)\n",
    "    n_correct = sum(y_pred == y_test_fold)\n",
    "    print(n_correct / len(y_pred))"
   ]
  },
  {
   "cell_type": "code",
   "execution_count": 13,
   "id": "eb2cffe7",
   "metadata": {},
   "outputs": [],
   "source": [
    "# housing[\"income_cat\"] = pd.cut(housing[\"median_income\"],\n",
    "#                                bins=[0., 1.5, 3.0, 4.5, 6., np.inf],\n",
    "#                                labels=[1, 2, 3, 4, 5])\n",
    "# from sklearn.model_selection import StratifiedShuffleSplit\n",
    "# split = StratifiedShuffleSplit(n_splits=1, test_size=0.2, random_state=42)\n",
    "\n",
    "# for train_index, test_index in split.split(housing, housing[\"income_cat\"]):\n",
    "# strat_train_set = housing.loc[train_index]\n",
    "# strat_test_set = housing.loc[test_index]"
   ]
  },
  {
   "cell_type": "code",
   "execution_count": null,
   "id": "41b9c472",
   "metadata": {},
   "outputs": [],
   "source": []
  },
  {
   "cell_type": "code",
   "execution_count": 14,
   "id": "175a9207",
   "metadata": {},
   "outputs": [
    {
     "data": {
      "text/plain": [
       "array([0.95035, 0.96035, 0.9604 ])"
      ]
     },
     "execution_count": 14,
     "metadata": {},
     "output_type": "execute_result"
    }
   ],
   "source": [
    "from sklearn.model_selection import cross_val_score\n",
    "cross_val_score(sgd_clf, X_train, y_train_5, cv=3, scoring=\"accuracy\")"
   ]
  },
  {
   "cell_type": "code",
   "execution_count": null,
   "id": "92c2a989",
   "metadata": {},
   "outputs": [],
   "source": []
  },
  {
   "cell_type": "code",
   "execution_count": 15,
   "id": "ad3e4de6",
   "metadata": {},
   "outputs": [],
   "source": [
    "from sklearn.base import BaseEstimator\n",
    "class Never5Classifier(BaseEstimator):\n",
    "    def fit(self, X, y=None):\n",
    "        return self\n",
    "    def predict(self, X):\n",
    "        return np.zeros((len(X), 1), dtype=bool)"
   ]
  },
  {
   "cell_type": "code",
   "execution_count": 16,
   "id": "ed7315fe",
   "metadata": {},
   "outputs": [],
   "source": [
    "never_5_clf = Never5Classifier()"
   ]
  },
  {
   "cell_type": "code",
   "execution_count": 17,
   "id": "94b9d1fa",
   "metadata": {},
   "outputs": [
    {
     "data": {
      "text/plain": [
       "array([0.91125, 0.90855, 0.90915])"
      ]
     },
     "execution_count": 17,
     "metadata": {},
     "output_type": "execute_result"
    }
   ],
   "source": [
    "cross_val_score(never_5_clf, X_train, y_train_5, cv=3, scoring=\"accuracy\")"
   ]
  },
  {
   "cell_type": "markdown",
   "id": "3163f94b",
   "metadata": {},
   "source": [
    "## Confusion Matrix"
   ]
  },
  {
   "cell_type": "code",
   "execution_count": 18,
   "id": "f41f12dc",
   "metadata": {},
   "outputs": [],
   "source": [
    "from sklearn.model_selection import cross_val_predict\n",
    "y_train_pred = cross_val_predict(sgd_clf, X_train, y_train_5, cv=3)"
   ]
  },
  {
   "cell_type": "code",
   "execution_count": 19,
   "id": "0337935a",
   "metadata": {},
   "outputs": [
    {
     "data": {
      "text/plain": [
       "array([[53892,   687],\n",
       "       [ 1891,  3530]], dtype=int64)"
      ]
     },
     "execution_count": 19,
     "metadata": {},
     "output_type": "execute_result"
    }
   ],
   "source": [
    "from sklearn.metrics import confusion_matrix\n",
    "confusion_matrix(y_train_5, y_train_pred)"
   ]
  },
  {
   "cell_type": "markdown",
   "id": "423b9b1d",
   "metadata": {},
   "source": [
    "## Precision and Recall versus the Decision Threshold"
   ]
  },
  {
   "cell_type": "code",
   "execution_count": 30,
   "id": "af24b025",
   "metadata": {},
   "outputs": [],
   "source": [
    "y_scores = cross_val_predict(sgd_clf, X_train, y_train_5, cv=3,method=\"decision_function\")"
   ]
  },
  {
   "cell_type": "code",
   "execution_count": 31,
   "id": "068bbcc8",
   "metadata": {},
   "outputs": [],
   "source": [
    "from sklearn.metrics import precision_recall_curve"
   ]
  },
  {
   "cell_type": "code",
   "execution_count": 32,
   "id": "22b663a8",
   "metadata": {},
   "outputs": [],
   "source": [
    "precisions, recalls, thresholds = precision_recall_curve(y_train_5, y_scores)"
   ]
  },
  {
   "cell_type": "code",
   "execution_count": 44,
   "id": "e81b0ebe",
   "metadata": {},
   "outputs": [],
   "source": [
    "def plot_precision_recall_vs_threshold(precisions, recalls, thresholds):\n",
    "    plt.plot(thresholds, precisions[:-1], \"b--\", label=\"Precision\")\n",
    "    plt.plot(thresholds, recalls[:-1], \"g-\", label=\"Recall\")\n",
    "    #plt.tick_params(axis='both',labelsize=12)    "
   ]
  },
  {
   "cell_type": "code",
   "execution_count": 45,
   "id": "ce03547b",
   "metadata": {},
   "outputs": [
    {
     "data": {
      "image/png": "[encoded data removed]",
      "text/plain": [
       "<Figure size 432x288 with 1 Axes>"
      ]
     },
     "metadata": {
      "needs_background": "light"
     },
     "output_type": "display_data"
    }
   ],
   "source": [
    "plot_precision_recall_vs_threshold(precisions, recalls, thresholds)\n",
    "plt.show()"
   ]
  },
  {
   "cell_type": "code",
   "execution_count": 48,
   "id": "ff2bcdf2",
   "metadata": {},
   "outputs": [
    {
     "name": "stdout",
     "output_type": "stream",
     "text": [
      "[2164.22030239]\n"
     ]
    }
   ],
   "source": [
    "y_scores = sgd_clf.decision_function([some_digit])\n",
    "print(y_scores)"
   ]
  },
  {
   "cell_type": "code",
   "execution_count": 50,
   "id": "997c43f6",
   "metadata": {},
   "outputs": [
    {
     "name": "stdout",
     "output_type": "stream",
     "text": [
      "[ True]\n"
     ]
    }
   ],
   "source": [
    "threshold = 0\n",
    "y_some_digit_pred = (y_scores > threshold)\n",
    "print(y_some_digit_pred)"
   ]
  },
  {
   "cell_type": "code",
   "execution_count": 51,
   "id": "70624b38",
   "metadata": {},
   "outputs": [
    {
     "name": "stdout",
     "output_type": "stream",
     "text": [
      "[ True]\n"
     ]
    }
   ],
   "source": [
    "threshold = 2000\n",
    "y_some_digit_pred = (y_scores > threshold)\n",
    "print(y_some_digit_pred)"
   ]
  },
  {
   "cell_type": "markdown",
   "id": "8779d226",
   "metadata": {},
   "source": [
    "## ROC curves\n",
    "### A high-precision classifier is not very useful if its recall is too low!"
   ]
  },
  {
   "cell_type": "code",
   "execution_count": 20,
   "id": "d0831453",
   "metadata": {},
   "outputs": [],
   "source": [
    "from sklearn.metrics import roc_curve\n",
    "\n",
    "y_scores = cross_val_predict(\n",
    "    sgd_clf, \n",
    "    X_train, \n",
    "    y_train_5, \n",
    "    cv=3,\n",
    "    method=\"decision_function\")\n",
    "\n",
    "fpr, tpr, thresholds = roc_curve(y_train_5, y_scores)"
   ]
  },
  {
   "cell_type": "code",
   "execution_count": 28,
   "id": "a9d76793",
   "metadata": {},
   "outputs": [
    {
     "data": {
      "image/png": "[encoded data removed]",
      "text/plain": [
       "<Figure size 432x288 with 1 Axes>"
      ]
     },
     "metadata": {
      "needs_background": "light"
     },
     "output_type": "display_data"
    }
   ],
   "source": [
    "def plot_roc_curve(fpr, tpr, label=None):\n",
    "    plt.plot(fpr, tpr, linewidth=2, label=label)\n",
    "    plt.plot([0, 1], [0, 1], 'k--') # Dashed diagonal\n",
    "    [...] # Add axis labels and grid\n",
    "    plt.title('Receiver operating characteristic',fontsize=16)\n",
    "    plt.xlabel('False Positive Rate (1-specificity/TNR)',fontsize=14)\n",
    "    plt.ylabel('True Positive - Recall-sensitivity',fontsize=12)\n",
    "    plt.tick_params(axis='both',labelsize=14)\n",
    "\n",
    "plot_roc_curve(fpr, tpr)\n",
    "plt.show()"
   ]
  },
  {
   "cell_type": "code",
   "execution_count": 22,
   "id": "58d3b895",
   "metadata": {},
   "outputs": [
    {
     "data": {
      "text/plain": [
       "0.9604938554008616"
      ]
     },
     "execution_count": 22,
     "metadata": {},
     "output_type": "execute_result"
    }
   ],
   "source": [
    "from sklearn.metrics import roc_auc_score\n",
    "roc_auc_score(y_train_5, y_scores)"
   ]
  },
  {
   "cell_type": "markdown",
   "id": "4dc364e9",
   "metadata": {},
   "source": [
    "#### Now compare it with RF classifier"
   ]
  },
  {
   "cell_type": "code",
   "execution_count": 23,
   "id": "733d6d24",
   "metadata": {},
   "outputs": [],
   "source": [
    "from sklearn.ensemble import RandomForestClassifier\n",
    "forest_clf = RandomForestClassifier(random_state=42)\n",
    "y_probas_forest = cross_val_predict(forest_clf, X_train, y_train_5, cv=3,method=\"predict_proba\")"
   ]
  },
  {
   "cell_type": "code",
   "execution_count": 24,
   "id": "1bf0e08c",
   "metadata": {},
   "outputs": [],
   "source": [
    "y_scores_forest = y_probas_forest[:, 1] # score = proba of positive class\n",
    "fpr_forest, tpr_forest, thresholds_forest = roc_curve(y_train_5,y_scores_forest)"
   ]
  },
  {
   "cell_type": "code",
   "execution_count": 53,
   "id": "b0c67217",
   "metadata": {},
   "outputs": [
    {
     "data": {
      "image/png": "[encoded data removed]",
      "text/plain": [
       "<Figure size 432x288 with 1 Axes>"
      ]
     },
     "metadata": {
      "needs_background": "light"
     },
     "output_type": "display_data"
    }
   ],
   "source": [
    "plt.plot(fpr, tpr, \"b:\", label=\"SGD\")\n",
    "\n",
    "plot_roc_curve(fpr_forest, tpr_forest, \"Random Forest\")\n",
    "plt.legend(loc=\"lower right\")\n",
    "plt.title('Receiver operating characteristic',fontsize=16)\n",
    "plt.xlabel('False Positive Rate (1-specificity/TNR)',fontsize=14)\n",
    "plt.ylabel('True Positive - Recall-sensitivity',fontsize=12)\n",
    "plt.show()"
   ]
  },
  {
   "cell_type": "code",
   "execution_count": 59,
   "id": "b2e8ce37",
   "metadata": {},
   "outputs": [],
   "source": [
    "rf_score = {'thresholds_forest':thresholds_forest,\n",
    "     'fpr_forest':fpr_forest,\n",
    "      'tpr_forest':tpr_forest\n",
    "     }"
   ]
  },
  {
   "cell_type": "code",
   "execution_count": 61,
   "id": "1cff3604",
   "metadata": {},
   "outputs": [
    {
     "data": {
      "text/html": [
       "<div>\n",
       "<style scoped>\n",
       "    .dataframe tbody tr th:only-of-type {\n",
       "        vertical-align: middle;\n",
       "    }\n",
       "\n",
       "    .dataframe tbody tr th {\n",
       "        vertical-align: top;\n",
       "    }\n",
       "\n",
       "    .dataframe thead th {\n",
       "        text-align: right;\n",
       "    }\n",
       "</style>\n",
       "<table border=\"1\" class=\"dataframe\">\n",
       "  <thead>\n",
       "    <tr style=\"text-align: right;\">\n",
       "      <th></th>\n",
       "      <th>thresholds_forest</th>\n",
       "      <th>fpr_forest</th>\n",
       "      <th>tpr_forest</th>\n",
       "    </tr>\n",
       "  </thead>\n",
       "  <tbody>\n",
       "    <tr>\n",
       "      <th>0</th>\n",
       "      <td>2.00</td>\n",
       "      <td>0.000000</td>\n",
       "      <td>0.000000</td>\n",
       "    </tr>\n",
       "    <tr>\n",
       "      <th>1</th>\n",
       "      <td>1.00</td>\n",
       "      <td>0.000000</td>\n",
       "      <td>0.020660</td>\n",
       "    </tr>\n",
       "    <tr>\n",
       "      <th>2</th>\n",
       "      <td>0.99</td>\n",
       "      <td>0.000000</td>\n",
       "      <td>0.053865</td>\n",
       "    </tr>\n",
       "    <tr>\n",
       "      <th>3</th>\n",
       "      <td>0.98</td>\n",
       "      <td>0.000000</td>\n",
       "      <td>0.092418</td>\n",
       "    </tr>\n",
       "    <tr>\n",
       "      <th>4</th>\n",
       "      <td>0.97</td>\n",
       "      <td>0.000000</td>\n",
       "      <td>0.132079</td>\n",
       "    </tr>\n",
       "    <tr>\n",
       "      <th>5</th>\n",
       "      <td>0.96</td>\n",
       "      <td>0.000000</td>\n",
       "      <td>0.172477</td>\n",
       "    </tr>\n",
       "    <tr>\n",
       "      <th>6</th>\n",
       "      <td>0.95</td>\n",
       "      <td>0.000000</td>\n",
       "      <td>0.206973</td>\n",
       "    </tr>\n",
       "    <tr>\n",
       "      <th>7</th>\n",
       "      <td>0.94</td>\n",
       "      <td>0.000000</td>\n",
       "      <td>0.239624</td>\n",
       "    </tr>\n",
       "    <tr>\n",
       "      <th>8</th>\n",
       "      <td>0.93</td>\n",
       "      <td>0.000000</td>\n",
       "      <td>0.271721</td>\n",
       "    </tr>\n",
       "    <tr>\n",
       "      <th>9</th>\n",
       "      <td>0.92</td>\n",
       "      <td>0.000000</td>\n",
       "      <td>0.306770</td>\n",
       "    </tr>\n",
       "    <tr>\n",
       "      <th>10</th>\n",
       "      <td>0.91</td>\n",
       "      <td>0.000000</td>\n",
       "      <td>0.339974</td>\n",
       "    </tr>\n",
       "    <tr>\n",
       "      <th>11</th>\n",
       "      <td>0.90</td>\n",
       "      <td>0.000000</td>\n",
       "      <td>0.363217</td>\n",
       "    </tr>\n",
       "    <tr>\n",
       "      <th>12</th>\n",
       "      <td>0.89</td>\n",
       "      <td>0.000000</td>\n",
       "      <td>0.388120</td>\n",
       "    </tr>\n",
       "    <tr>\n",
       "      <th>13</th>\n",
       "      <td>0.88</td>\n",
       "      <td>0.000000</td>\n",
       "      <td>0.410810</td>\n",
       "    </tr>\n",
       "    <tr>\n",
       "      <th>14</th>\n",
       "      <td>0.87</td>\n",
       "      <td>0.000000</td>\n",
       "      <td>0.437189</td>\n",
       "    </tr>\n",
       "    <tr>\n",
       "      <th>15</th>\n",
       "      <td>0.86</td>\n",
       "      <td>0.000000</td>\n",
       "      <td>0.459140</td>\n",
       "    </tr>\n",
       "    <tr>\n",
       "      <th>16</th>\n",
       "      <td>0.85</td>\n",
       "      <td>0.000018</td>\n",
       "      <td>0.481830</td>\n",
       "    </tr>\n",
       "    <tr>\n",
       "      <th>17</th>\n",
       "      <td>0.84</td>\n",
       "      <td>0.000055</td>\n",
       "      <td>0.503044</td>\n",
       "    </tr>\n",
       "    <tr>\n",
       "      <th>18</th>\n",
       "      <td>0.83</td>\n",
       "      <td>0.000055</td>\n",
       "      <td>0.520015</td>\n",
       "    </tr>\n",
       "    <tr>\n",
       "      <th>19</th>\n",
       "      <td>0.82</td>\n",
       "      <td>0.000055</td>\n",
       "      <td>0.537355</td>\n",
       "    </tr>\n",
       "    <tr>\n",
       "      <th>20</th>\n",
       "      <td>0.81</td>\n",
       "      <td>0.000055</td>\n",
       "      <td>0.555617</td>\n",
       "    </tr>\n",
       "    <tr>\n",
       "      <th>21</th>\n",
       "      <td>0.80</td>\n",
       "      <td>0.000055</td>\n",
       "      <td>0.570190</td>\n",
       "    </tr>\n",
       "    <tr>\n",
       "      <th>22</th>\n",
       "      <td>0.79</td>\n",
       "      <td>0.000092</td>\n",
       "      <td>0.587714</td>\n",
       "    </tr>\n",
       "    <tr>\n",
       "      <th>23</th>\n",
       "      <td>0.78</td>\n",
       "      <td>0.000092</td>\n",
       "      <td>0.605054</td>\n",
       "    </tr>\n",
       "    <tr>\n",
       "      <th>24</th>\n",
       "      <td>0.77</td>\n",
       "      <td>0.000110</td>\n",
       "      <td>0.619627</td>\n",
       "    </tr>\n",
       "    <tr>\n",
       "      <th>25</th>\n",
       "      <td>0.76</td>\n",
       "      <td>0.000110</td>\n",
       "      <td>0.633462</td>\n",
       "    </tr>\n",
       "    <tr>\n",
       "      <th>26</th>\n",
       "      <td>0.75</td>\n",
       "      <td>0.000110</td>\n",
       "      <td>0.645453</td>\n",
       "    </tr>\n",
       "    <tr>\n",
       "      <th>27</th>\n",
       "      <td>0.74</td>\n",
       "      <td>0.000110</td>\n",
       "      <td>0.659657</td>\n",
       "    </tr>\n",
       "    <tr>\n",
       "      <th>28</th>\n",
       "      <td>0.73</td>\n",
       "      <td>0.000128</td>\n",
       "      <td>0.674783</td>\n",
       "    </tr>\n",
       "    <tr>\n",
       "      <th>29</th>\n",
       "      <td>0.72</td>\n",
       "      <td>0.000128</td>\n",
       "      <td>0.685667</td>\n",
       "    </tr>\n",
       "    <tr>\n",
       "      <th>30</th>\n",
       "      <td>0.71</td>\n",
       "      <td>0.000165</td>\n",
       "      <td>0.695997</td>\n",
       "    </tr>\n",
       "    <tr>\n",
       "      <th>31</th>\n",
       "      <td>0.70</td>\n",
       "      <td>0.000220</td>\n",
       "      <td>0.708172</td>\n",
       "    </tr>\n",
       "    <tr>\n",
       "      <th>32</th>\n",
       "      <td>0.69</td>\n",
       "      <td>0.000220</td>\n",
       "      <td>0.718687</td>\n",
       "    </tr>\n",
       "    <tr>\n",
       "      <th>33</th>\n",
       "      <td>0.67</td>\n",
       "      <td>0.000257</td>\n",
       "      <td>0.740823</td>\n",
       "    </tr>\n",
       "    <tr>\n",
       "      <th>34</th>\n",
       "      <td>0.66</td>\n",
       "      <td>0.000257</td>\n",
       "      <td>0.749493</td>\n",
       "    </tr>\n",
       "    <tr>\n",
       "      <th>35</th>\n",
       "      <td>0.65</td>\n",
       "      <td>0.000275</td>\n",
       "      <td>0.761668</td>\n",
       "    </tr>\n",
       "    <tr>\n",
       "      <th>36</th>\n",
       "      <td>0.64</td>\n",
       "      <td>0.000293</td>\n",
       "      <td>0.770891</td>\n",
       "    </tr>\n",
       "    <tr>\n",
       "      <th>37</th>\n",
       "      <td>0.63</td>\n",
       "      <td>0.000293</td>\n",
       "      <td>0.779930</td>\n",
       "    </tr>\n",
       "    <tr>\n",
       "      <th>38</th>\n",
       "      <td>0.62</td>\n",
       "      <td>0.000348</td>\n",
       "      <td>0.785279</td>\n",
       "    </tr>\n",
       "    <tr>\n",
       "      <th>39</th>\n",
       "      <td>0.61</td>\n",
       "      <td>0.000385</td>\n",
       "      <td>0.793949</td>\n",
       "    </tr>\n",
       "    <tr>\n",
       "      <th>40</th>\n",
       "      <td>0.60</td>\n",
       "      <td>0.000421</td>\n",
       "      <td>0.803173</td>\n",
       "    </tr>\n",
       "    <tr>\n",
       "      <th>41</th>\n",
       "      <td>0.59</td>\n",
       "      <td>0.000440</td>\n",
       "      <td>0.812765</td>\n",
       "    </tr>\n",
       "    <tr>\n",
       "      <th>42</th>\n",
       "      <td>0.58</td>\n",
       "      <td>0.000458</td>\n",
       "      <td>0.820144</td>\n",
       "    </tr>\n",
       "    <tr>\n",
       "      <th>43</th>\n",
       "      <td>0.57</td>\n",
       "      <td>0.000513</td>\n",
       "      <td>0.826047</td>\n",
       "    </tr>\n",
       "    <tr>\n",
       "      <th>44</th>\n",
       "      <td>0.56</td>\n",
       "      <td>0.000550</td>\n",
       "      <td>0.833979</td>\n",
       "    </tr>\n",
       "    <tr>\n",
       "      <th>45</th>\n",
       "      <td>0.55</td>\n",
       "      <td>0.000623</td>\n",
       "      <td>0.840804</td>\n",
       "    </tr>\n",
       "    <tr>\n",
       "      <th>46</th>\n",
       "      <td>0.54</td>\n",
       "      <td>0.000696</td>\n",
       "      <td>0.848736</td>\n",
       "    </tr>\n",
       "    <tr>\n",
       "      <th>47</th>\n",
       "      <td>0.53</td>\n",
       "      <td>0.000696</td>\n",
       "      <td>0.854824</td>\n",
       "    </tr>\n",
       "    <tr>\n",
       "      <th>48</th>\n",
       "      <td>0.52</td>\n",
       "      <td>0.000751</td>\n",
       "      <td>0.861096</td>\n",
       "    </tr>\n",
       "    <tr>\n",
       "      <th>49</th>\n",
       "      <td>0.51</td>\n",
       "      <td>0.000824</td>\n",
       "      <td>0.866261</td>\n",
       "    </tr>\n",
       "    <tr>\n",
       "      <th>50</th>\n",
       "      <td>0.50</td>\n",
       "      <td>0.000898</td>\n",
       "      <td>0.872533</td>\n",
       "    </tr>\n",
       "    <tr>\n",
       "      <th>51</th>\n",
       "      <td>0.49</td>\n",
       "      <td>0.001081</td>\n",
       "      <td>0.876407</td>\n",
       "    </tr>\n",
       "    <tr>\n",
       "      <th>52</th>\n",
       "      <td>0.48</td>\n",
       "      <td>0.001136</td>\n",
       "      <td>0.881572</td>\n",
       "    </tr>\n",
       "    <tr>\n",
       "      <th>53</th>\n",
       "      <td>0.47</td>\n",
       "      <td>0.001283</td>\n",
       "      <td>0.887844</td>\n",
       "    </tr>\n",
       "    <tr>\n",
       "      <th>54</th>\n",
       "      <td>0.46</td>\n",
       "      <td>0.001429</td>\n",
       "      <td>0.891902</td>\n",
       "    </tr>\n",
       "    <tr>\n",
       "      <th>55</th>\n",
       "      <td>0.45</td>\n",
       "      <td>0.001521</td>\n",
       "      <td>0.897989</td>\n",
       "    </tr>\n",
       "    <tr>\n",
       "      <th>56</th>\n",
       "      <td>0.44</td>\n",
       "      <td>0.001741</td>\n",
       "      <td>0.905552</td>\n",
       "    </tr>\n",
       "    <tr>\n",
       "      <th>57</th>\n",
       "      <td>0.43</td>\n",
       "      <td>0.001960</td>\n",
       "      <td>0.909426</td>\n",
       "    </tr>\n",
       "    <tr>\n",
       "      <th>58</th>\n",
       "      <td>0.42</td>\n",
       "      <td>0.002199</td>\n",
       "      <td>0.913485</td>\n",
       "    </tr>\n",
       "    <tr>\n",
       "      <th>59</th>\n",
       "      <td>0.41</td>\n",
       "      <td>0.002290</td>\n",
       "      <td>0.917912</td>\n",
       "    </tr>\n",
       "    <tr>\n",
       "      <th>60</th>\n",
       "      <td>0.40</td>\n",
       "      <td>0.002547</td>\n",
       "      <td>0.921232</td>\n",
       "    </tr>\n",
       "    <tr>\n",
       "      <th>61</th>\n",
       "      <td>0.39</td>\n",
       "      <td>0.002730</td>\n",
       "      <td>0.924737</td>\n",
       "    </tr>\n",
       "    <tr>\n",
       "      <th>62</th>\n",
       "      <td>0.38</td>\n",
       "      <td>0.002913</td>\n",
       "      <td>0.928980</td>\n",
       "    </tr>\n",
       "    <tr>\n",
       "      <th>63</th>\n",
       "      <td>0.37</td>\n",
       "      <td>0.003170</td>\n",
       "      <td>0.932116</td>\n",
       "    </tr>\n",
       "    <tr>\n",
       "      <th>64</th>\n",
       "      <td>0.36</td>\n",
       "      <td>0.003445</td>\n",
       "      <td>0.937281</td>\n",
       "    </tr>\n",
       "    <tr>\n",
       "      <th>65</th>\n",
       "      <td>0.35</td>\n",
       "      <td>0.003628</td>\n",
       "      <td>0.939310</td>\n",
       "    </tr>\n",
       "    <tr>\n",
       "      <th>66</th>\n",
       "      <td>0.34</td>\n",
       "      <td>0.003976</td>\n",
       "      <td>0.942999</td>\n",
       "    </tr>\n",
       "    <tr>\n",
       "      <th>67</th>\n",
       "      <td>0.33</td>\n",
       "      <td>0.004306</td>\n",
       "      <td>0.946135</td>\n",
       "    </tr>\n",
       "    <tr>\n",
       "      <th>68</th>\n",
       "      <td>0.32</td>\n",
       "      <td>0.004727</td>\n",
       "      <td>0.948718</td>\n",
       "    </tr>\n",
       "    <tr>\n",
       "      <th>69</th>\n",
       "      <td>0.31</td>\n",
       "      <td>0.005387</td>\n",
       "      <td>0.951116</td>\n",
       "    </tr>\n",
       "    <tr>\n",
       "      <th>70</th>\n",
       "      <td>0.30</td>\n",
       "      <td>0.005918</td>\n",
       "      <td>0.954990</td>\n",
       "    </tr>\n",
       "    <tr>\n",
       "      <th>71</th>\n",
       "      <td>0.29</td>\n",
       "      <td>0.006431</td>\n",
       "      <td>0.958495</td>\n",
       "    </tr>\n",
       "    <tr>\n",
       "      <th>72</th>\n",
       "      <td>0.28</td>\n",
       "      <td>0.007054</td>\n",
       "      <td>0.961262</td>\n",
       "    </tr>\n",
       "    <tr>\n",
       "      <th>73</th>\n",
       "      <td>0.27</td>\n",
       "      <td>0.007805</td>\n",
       "      <td>0.964213</td>\n",
       "    </tr>\n",
       "    <tr>\n",
       "      <th>74</th>\n",
       "      <td>0.26</td>\n",
       "      <td>0.008593</td>\n",
       "      <td>0.966796</td>\n",
       "    </tr>\n",
       "    <tr>\n",
       "      <th>75</th>\n",
       "      <td>0.25</td>\n",
       "      <td>0.009546</td>\n",
       "      <td>0.970116</td>\n",
       "    </tr>\n",
       "    <tr>\n",
       "      <th>76</th>\n",
       "      <td>0.24</td>\n",
       "      <td>0.010480</td>\n",
       "      <td>0.972145</td>\n",
       "    </tr>\n",
       "    <tr>\n",
       "      <th>77</th>\n",
       "      <td>0.23</td>\n",
       "      <td>0.011818</td>\n",
       "      <td>0.974728</td>\n",
       "    </tr>\n",
       "    <tr>\n",
       "      <th>78</th>\n",
       "      <td>0.22</td>\n",
       "      <td>0.012972</td>\n",
       "      <td>0.977126</td>\n",
       "    </tr>\n",
       "    <tr>\n",
       "      <th>79</th>\n",
       "      <td>0.21</td>\n",
       "      <td>0.014236</td>\n",
       "      <td>0.979340</td>\n",
       "    </tr>\n",
       "    <tr>\n",
       "      <th>80</th>\n",
       "      <td>0.20</td>\n",
       "      <td>0.015794</td>\n",
       "      <td>0.981000</td>\n",
       "    </tr>\n",
       "    <tr>\n",
       "      <th>81</th>\n",
       "      <td>0.19</td>\n",
       "      <td>0.017809</td>\n",
       "      <td>0.982476</td>\n",
       "    </tr>\n",
       "    <tr>\n",
       "      <th>82</th>\n",
       "      <td>0.18</td>\n",
       "      <td>0.019971</td>\n",
       "      <td>0.983767</td>\n",
       "    </tr>\n",
       "    <tr>\n",
       "      <th>83</th>\n",
       "      <td>0.17</td>\n",
       "      <td>0.022243</td>\n",
       "      <td>0.984505</td>\n",
       "    </tr>\n",
       "    <tr>\n",
       "      <th>84</th>\n",
       "      <td>0.16</td>\n",
       "      <td>0.025468</td>\n",
       "      <td>0.986534</td>\n",
       "    </tr>\n",
       "    <tr>\n",
       "      <th>85</th>\n",
       "      <td>0.15</td>\n",
       "      <td>0.028784</td>\n",
       "      <td>0.987456</td>\n",
       "    </tr>\n",
       "    <tr>\n",
       "      <th>86</th>\n",
       "      <td>0.14</td>\n",
       "      <td>0.032998</td>\n",
       "      <td>0.989116</td>\n",
       "    </tr>\n",
       "    <tr>\n",
       "      <th>87</th>\n",
       "      <td>0.13</td>\n",
       "      <td>0.038092</td>\n",
       "      <td>0.990592</td>\n",
       "    </tr>\n",
       "    <tr>\n",
       "      <th>88</th>\n",
       "      <td>0.12</td>\n",
       "      <td>0.043515</td>\n",
       "      <td>0.991514</td>\n",
       "    </tr>\n",
       "    <tr>\n",
       "      <th>89</th>\n",
       "      <td>0.11</td>\n",
       "      <td>0.051210</td>\n",
       "      <td>0.992621</td>\n",
       "    </tr>\n",
       "    <tr>\n",
       "      <th>90</th>\n",
       "      <td>0.10</td>\n",
       "      <td>0.059492</td>\n",
       "      <td>0.993359</td>\n",
       "    </tr>\n",
       "    <tr>\n",
       "      <th>91</th>\n",
       "      <td>0.09</td>\n",
       "      <td>0.071236</td>\n",
       "      <td>0.994650</td>\n",
       "    </tr>\n",
       "    <tr>\n",
       "      <th>92</th>\n",
       "      <td>0.08</td>\n",
       "      <td>0.084648</td>\n",
       "      <td>0.995757</td>\n",
       "    </tr>\n",
       "    <tr>\n",
       "      <th>93</th>\n",
       "      <td>0.07</td>\n",
       "      <td>0.102127</td>\n",
       "      <td>0.996680</td>\n",
       "    </tr>\n",
       "    <tr>\n",
       "      <th>94</th>\n",
       "      <td>0.06</td>\n",
       "      <td>0.124480</td>\n",
       "      <td>0.998524</td>\n",
       "    </tr>\n",
       "    <tr>\n",
       "      <th>95</th>\n",
       "      <td>0.05</td>\n",
       "      <td>0.154144</td>\n",
       "      <td>0.999262</td>\n",
       "    </tr>\n",
       "    <tr>\n",
       "      <th>96</th>\n",
       "      <td>0.04</td>\n",
       "      <td>0.196229</td>\n",
       "      <td>0.999447</td>\n",
       "    </tr>\n",
       "    <tr>\n",
       "      <th>97</th>\n",
       "      <td>0.03</td>\n",
       "      <td>0.257627</td>\n",
       "      <td>0.999816</td>\n",
       "    </tr>\n",
       "    <tr>\n",
       "      <th>98</th>\n",
       "      <td>0.02</td>\n",
       "      <td>0.358453</td>\n",
       "      <td>1.000000</td>\n",
       "    </tr>\n",
       "    <tr>\n",
       "      <th>99</th>\n",
       "      <td>0.01</td>\n",
       "      <td>0.537295</td>\n",
       "      <td>1.000000</td>\n",
       "    </tr>\n",
       "    <tr>\n",
       "      <th>100</th>\n",
       "      <td>0.00</td>\n",
       "      <td>1.000000</td>\n",
       "      <td>1.000000</td>\n",
       "    </tr>\n",
       "  </tbody>\n",
       "</table>\n",
       "</div>"
      ],
      "text/plain": [
       "     thresholds_forest  fpr_forest  tpr_forest\n",
       "0                 2.00    0.000000    0.000000\n",
       "1                 1.00    0.000000    0.020660\n",
       "2                 0.99    0.000000    0.053865\n",
       "3                 0.98    0.000000    0.092418\n",
       "4                 0.97    0.000000    0.132079\n",
       "5                 0.96    0.000000    0.172477\n",
       "6                 0.95    0.000000    0.206973\n",
       "7                 0.94    0.000000    0.239624\n",
       "8                 0.93    0.000000    0.271721\n",
       "9                 0.92    0.000000    0.306770\n",
       "10                0.91    0.000000    0.339974\n",
       "11                0.90    0.000000    0.363217\n",
       "12                0.89    0.000000    0.388120\n",
       "13                0.88    0.000000    0.410810\n",
       "14                0.87    0.000000    0.437189\n",
       "15                0.86    0.000000    0.459140\n",
       "16                0.85    0.000018    0.481830\n",
       "17                0.84    0.000055    0.503044\n",
       "18                0.83    0.000055    0.520015\n",
       "19                0.82    0.000055    0.537355\n",
       "20                0.81    0.000055    0.555617\n",
       "21                0.80    0.000055    0.570190\n",
       "22                0.79    0.000092    0.587714\n",
       "23                0.78    0.000092    0.605054\n",
       "24                0.77    0.000110    0.619627\n",
       "25                0.76    0.000110    0.633462\n",
       "26                0.75    0.000110    0.645453\n",
       "27                0.74    0.000110    0.659657\n",
       "28                0.73    0.000128    0.674783\n",
       "29                0.72    0.000128    0.685667\n",
       "30                0.71    0.000165    0.695997\n",
       "31                0.70    0.000220    0.708172\n",
       "32                0.69    0.000220    0.718687\n",
       "33                0.67    0.000257    0.740823\n",
       "34                0.66    0.000257    0.749493\n",
       "35                0.65    0.000275    0.761668\n",
       "36                0.64    0.000293    0.770891\n",
       "37                0.63    0.000293    0.779930\n",
       "38                0.62    0.000348    0.785279\n",
       "39                0.61    0.000385    0.793949\n",
       "40                0.60    0.000421    0.803173\n",
       "41                0.59    0.000440    0.812765\n",
       "42                0.58    0.000458    0.820144\n",
       "43                0.57    0.000513    0.826047\n",
       "44                0.56    0.000550    0.833979\n",
       "45                0.55    0.000623    0.840804\n",
       "46                0.54    0.000696    0.848736\n",
       "47                0.53    0.000696    0.854824\n",
       "48                0.52    0.000751    0.861096\n",
       "49                0.51    0.000824    0.866261\n",
       "50                0.50    0.000898    0.872533\n",
       "51                0.49    0.001081    0.876407\n",
       "52                0.48    0.001136    0.881572\n",
       "53                0.47    0.001283    0.887844\n",
       "54                0.46    0.001429    0.891902\n",
       "55                0.45    0.001521    0.897989\n",
       "56                0.44    0.001741    0.905552\n",
       "57                0.43    0.001960    0.909426\n",
       "58                0.42    0.002199    0.913485\n",
       "59                0.41    0.002290    0.917912\n",
       "60                0.40    0.002547    0.921232\n",
       "61                0.39    0.002730    0.924737\n",
       "62                0.38    0.002913    0.928980\n",
       "63                0.37    0.003170    0.932116\n",
       "64                0.36    0.003445    0.937281\n",
       "65                0.35    0.003628    0.939310\n",
       "66                0.34    0.003976    0.942999\n",
       "67                0.33    0.004306    0.946135\n",
       "68                0.32    0.004727    0.948718\n",
       "69                0.31    0.005387    0.951116\n",
       "70                0.30    0.005918    0.954990\n",
       "71                0.29    0.006431    0.958495\n",
       "72                0.28    0.007054    0.961262\n",
       "73                0.27    0.007805    0.964213\n",
       "74                0.26    0.008593    0.966796\n",
       "75                0.25    0.009546    0.970116\n",
       "76                0.24    0.010480    0.972145\n",
       "77                0.23    0.011818    0.974728\n",
       "78                0.22    0.012972    0.977126\n",
       "79                0.21    0.014236    0.979340\n",
       "80                0.20    0.015794    0.981000\n",
       "81                0.19    0.017809    0.982476\n",
       "82                0.18    0.019971    0.983767\n",
       "83                0.17    0.022243    0.984505\n",
       "84                0.16    0.025468    0.986534\n",
       "85                0.15    0.028784    0.987456\n",
       "86                0.14    0.032998    0.989116\n",
       "87                0.13    0.038092    0.990592\n",
       "88                0.12    0.043515    0.991514\n",
       "89                0.11    0.051210    0.992621\n",
       "90                0.10    0.059492    0.993359\n",
       "91                0.09    0.071236    0.994650\n",
       "92                0.08    0.084648    0.995757\n",
       "93                0.07    0.102127    0.996680\n",
       "94                0.06    0.124480    0.998524\n",
       "95                0.05    0.154144    0.999262\n",
       "96                0.04    0.196229    0.999447\n",
       "97                0.03    0.257627    0.999816\n",
       "98                0.02    0.358453    1.000000\n",
       "99                0.01    0.537295    1.000000\n",
       "100               0.00    1.000000    1.000000"
      ]
     },
     "execution_count": 61,
     "metadata": {},
     "output_type": "execute_result"
    }
   ],
   "source": [
    "import pandas as pd\n",
    "pd.set_option('display.max_rows', 500)\n",
    "\n",
    "pd.DataFrame(rf_score)"
   ]
  },
  {
   "cell_type": "code",
   "execution_count": 26,
   "id": "2c64e760",
   "metadata": {},
   "outputs": [
    {
     "data": {
      "text/plain": [
       "0.9983436731328145"
      ]
     },
     "execution_count": 26,
     "metadata": {},
     "output_type": "execute_result"
    }
   ],
   "source": [
    "roc_auc_score(y_train_5, y_scores_forest)"
   ]
  },
  {
   "cell_type": "code",
   "execution_count": null,
   "id": "86887253",
   "metadata": {},
   "outputs": [],
   "source": []
  },
  {
   "cell_type": "code",
   "execution_count": null,
   "id": "a84d8692",
   "metadata": {},
   "outputs": [],
   "source": []
  }
 ],
 "metadata": {
  "kernelspec": {
   "display_name": "Python 3",
   "language": "python",
   "name": "python3"
  },
  "language_info": {
   "codemirror_mode": {
    "name": "ipython",
    "version": 3
   },
   "file_extension": ".py",
   "mimetype": "text/x-python",
   "name": "python",
   "nbconvert_exporter": "python",
   "pygments_lexer": "ipython3",
   "version": "3.8.5"
  }
 },
 "nbformat": 4,
 "nbformat_minor": 5
}
